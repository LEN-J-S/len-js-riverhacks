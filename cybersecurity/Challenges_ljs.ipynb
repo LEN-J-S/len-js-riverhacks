{
 "cells": [
  {
   "cell_type": "markdown",
   "id": "283a23a9",
   "metadata": {},
   "source": [
    "### CYBER TRIVIA"
   ]
  },
  {
   "cell_type": "markdown",
   "id": "d0528396",
   "metadata": {},
   "source": [
    "#\n",
    "Q1"
   ]
  },
  {
   "cell_type": "code",
   "execution_count": 1,
   "id": "24936321",
   "metadata": {},
   "outputs": [
    {
     "name": "stdout",
     "output_type": "stream",
     "text": [
      "{'text_blocks': [{'type': 'paragraph', 'snippet': 'HTTPS, which stands for Hypertext Transfer Protocol Secure, uses port 443. This is the default port for secure web connections using SSL/TLS encryption. HTTP, the unencrypted version, uses port 80.', 'snippet_highlighted_words': ['port 443'], 'reference_indexes': [0, 1, 2]}], 'references': [{'title': 'What is HTTPS? - Cloudflare', 'link': 'https://www.cloudflare.com/learning/ssl/what-is-https/#:~:text=What%20port%20does%20HTTPS%20use,different%20protocols%20use%20different%20ports.)', 'snippet': 'What port does HTTPS use? HTTPS uses port 443. This differentiates HTTPS from HTTP, which uses port 80. (In networking, a port is ...', 'source': 'Cloudflare', 'index': 0}, {'title': 'Can I use another port other than 443 for HTTPS/SSL communication?', 'link': 'https://stackoverflow.com/questions/29414208/can-i-use-another-port-other-than-443-for-https-ssl-communication', 'snippet': 'Apr 2, 2015', 'source': 'Stack Overflow', 'index': 1}, {'title': 'Understanding HTTPS Ports and How to Use Them - NameSilo', 'link': 'https://www.namesilo.com/blog/en/privacy-security/understanding-https-ports-and-how-to-use-them#:~:text=Port%20443,-Port%20443%2C%20recognized&text=This%20dedicated%20port%20for%20web,against%20unauthorized%20eavesdropping%20and%20interception.', 'snippet': 'Jun 20, 2023 — Port 443. ... This dedicated port for web browsing employs an SSL/TLS certificate to encrypt plain text into an algori...', 'source': 'NameSilo', 'index': 2}]}\n"
     ]
    }
   ],
   "source": [
    "from serpapi import GoogleSearch\n",
    "\n",
    "params = {\n",
    "  \"q\": \"What port does HTTPS use?\",\n",
    "  \"api_key\": \"ceb3f50af6f993589b5cd1851c0175df48d4dd6900717cca8f30ef969e8b92ba\"\n",
    "}\n",
    "\n",
    "search = GoogleSearch(params)\n",
    "results = search.get_dict()\n",
    "ai_overview = results[\"ai_overview\"]\n",
    "print(ai_overview)"
   ]
  },
  {
   "cell_type": "markdown",
   "id": "ee842a02",
   "metadata": {},
   "source": [
    "#\n",
    "Q2"
   ]
  },
  {
   "cell_type": "code",
   "execution_count": 2,
   "id": "909cab25",
   "metadata": {},
   "outputs": [
    {
     "name": "stdout",
     "output_type": "stream",
     "text": [
      "[{'position': 1, 'title': 'Ransomware - FBI', 'link': 'https://www.fbi.gov/how-we-can-help-you/scams-and-safety/common-frauds-and-scams/ransomware', 'displayed_link': 'www.fbi.gov › scams-and-safety › common-frauds-and-scams › ransomware', 'snippet': 'Ransomware is a type of malicious software—or malware—that prevents you from accessing your computer files, systems, or networks and demands you pay a ransom ...'}, {'position': 2, 'title': 'A guide to ransomware - NCSC.GOV.UK', 'link': 'https://www.ncsc.gov.uk/ransomware/home', 'displayed_link': 'www.ncsc.gov.uk › ransomware', 'snippet': 'Ransomware is a type of malware which prevents you from accessing your device and the data stored on it, usually by encrypting your files.', 'sitelinks': {'inline': [{'title': 'Mitigating malware', 'link': 'https://www.ncsc.gov.uk/guidance/mitigating-malware-and-ransomware-attacks'}, {'title': 'Recovering an infected device.', 'link': 'https://www.ncsc.gov.uk/guidance/hacked-device-action-to-take'}, {'title': 'Guidance for organisations', 'link': 'https://www.ncsc.gov.uk/guidance/organisations-considering-payment-in-ransomware-incidents'}]}}, {'position': 3, 'title': 'The Potential Impacts of Ransomware - J.P. Morgan', 'link': 'https://www.jpmorgan.com/technology/news/the-potential-impacts-of-ransomware', 'displayed_link': 'www.jpmorgan.com › Technology at our firm › News', 'snippet': 'Malicious actors then demand a ransom payment, usually in the form of cryptocurrency, in exchange for decryption.'}, {'position': 4, 'title': 'Mitigating malware and ransomware attacks - NCSC.GOV.UK', 'link': 'https://www.ncsc.gov.uk/guidance/mitigating-malware-and-ransomware-attacks', 'displayed_link': 'www.ncsc.gov.uk › guidance › mitigating-malware-and-ransomware-attacks', 'snippet': 'Occasionally malware is presented as ransomware, but after the ransom is paid the files are not decrypted. This is known as wiper malware. For these reasons, ...'}, {'position': 5, 'title': 'What Is Ransomware? Attack Types, Examples, Detection, and ...', 'link': 'https://perception-point.io/guides/ransomware/what-is-ransomware-attack-types-examples-detection-and-prevention/', 'displayed_link': 'perception-point.io › Guides', 'snippet': \"Crypto ransomware: This is the most common type of ransomware. It encrypts the victim's files and demands a ransom payment in exchange for the decryption key.\"}, {'position': 6, 'title': '5 Most Common Types of Ransomware | CrowdStrike', 'link': 'https://www.crowdstrike.com/en-us/cybersecurity-101/ransomware/types-of-ransomware/', 'displayed_link': 'www.crowdstrike.com › en-us › cybersecurity-101 › types-of-ransomware', 'snippet': \"Ransomware is a type of malware attack that encrypts a victim's data and prevents access until a ransom payment is made.\", 'date': 'Feb 20, 2025'}, {'position': 7, 'title': 'Frequently Asked Questions - Ransomware', 'link': 'https://security.berkeley.edu/faq/ransomware/', 'displayed_link': 'security.berkeley.edu › Frequently Asked Questions › Ransomware', 'snippet': \"Ransomware is a type of malicious software that infects a computer and restricts users' access to it until a ransom is paid to unlock it.\"}, {'position': 8, 'title': 'The 10 Biggest Ransomware Attacks of 2021 | Touro University Illinois', 'link': 'https://illinois.touro.edu/news/the-10-biggest-ransomware-attacks-of-2021.php', 'displayed_link': 'illinois.touro.edu › news › the-10-biggest-ransomware-attacks-of-2021', 'snippet': 'Malicious actors then demand ransom in exchange for decryption. Ransomware actors often target and threaten to sell or leak exfiltrated data or ...', 'date': 'Nov 12, 2021'}, {'position': 9, 'title': 'What Are the Types of Ransomware? - Akamai', 'link': 'https://www.akamai.com/glossary/what-are-the-types-of-ransomware', 'displayed_link': 'www.akamai.com › glossary › what-are-the-types-of-ransomware', 'snippet': 'In exchange for a decryption key that restores access to files, cybercriminals demand a ransom payment, usually in the form of cryptocurrency like bitcoin.'}]\n",
      "\n",
      "Top 5 most repeated meaningful words:\n",
      "ransomware: 17 times\n",
      "ransom: 8 times\n",
      "malware: 6 times\n",
      "malicious: 4 times\n",
      "payment: 4 times\n"
     ]
    }
   ],
   "source": [
    "from serpapi import GoogleSearch\n",
    "import re\n",
    "from collections import Counter\n",
    "\n",
    "# Search query\n",
    "params = {\n",
    "    \"engine\": \"google_light\",\n",
    "    \"google_domain\": \"google.com\",\n",
    "    \"hl\": \"en\",\n",
    "    \"gl\": \"us\",\n",
    "    \"q\": \"What kind of malware demands payment?\",\n",
    "    \"api_key\": \"ceb3f50af6f993589b5cd1851c0175df48d4dd6900717cca8f30ef969e8b92ba\"\n",
    "}\n",
    "\n",
    "# Perform the search\n",
    "search = GoogleSearch(params)\n",
    "results = search.get_dict()\n",
    "\n",
    "# Get the organic search results\n",
    "organic_results = results.get(\"organic_results\", [])\n",
    "print(organic_results)\n",
    "\n",
    "# Analyze most repeated words\n",
    "# Extract all titles and snippets into a single text\n",
    "text = \" \".join(\n",
    "    result.get(\"title\", \"\") + \" \" + result.get(\"snippet\", \"\") \n",
    "    for result in organic_results\n",
    ")\n",
    "\n",
    "# Lowercase the text and find all words with only letters and length >= 3\n",
    "words = re.findall(r'\\b[a-z]{3,}\\b', text.lower())\n",
    "\n",
    "# List of common stopwords to ignore\n",
    "stopwords = {\n",
    "    \"the\", \"and\", \"for\", \"you\", \"are\", \"your\", \"our\", \"with\", \"this\", \"that\",\n",
    "    \"but\", \"has\", \"how\", \"can\", \"who\", \"not\", \"use\", \"was\", \"all\", \"from\",\n",
    "    \"why\", \"into\", \"its\", \"out\", \"faq\", \"news\", \"made\", \"see\", \"get\", \"key\",\n",
    "    \"type\", \"types\", \"access\", \"files\", \"until\", \"paid\", \"form\", \"exchange\",\n",
    "    \"data\", \"attack\", \"attacks\"\n",
    "}\n",
    "\n",
    "# Filter out stopwords\n",
    "filtered_words = [word for word in words if word not in stopwords]\n",
    "\n",
    "# Count word frequencies\n",
    "counter = Counter(filtered_words)\n",
    "\n",
    "# Get the top 5 most common words\n",
    "most_common = counter.most_common(5)\n",
    "\n",
    "print(\"\\nTop 5 most repeated meaningful words:\")\n",
    "for word, count in most_common:\n",
    "    print(f\"{word}: {count} times\")\n"
   ]
  },
  {
   "cell_type": "markdown",
   "id": "1b0cba8d",
   "metadata": {},
   "source": [
    "#\n",
    "Q3"
   ]
  },
  {
   "cell_type": "code",
   "execution_count": 12,
   "id": "b698ff38",
   "metadata": {},
   "outputs": [
    {
     "name": "stdout",
     "output_type": "stream",
     "text": [
      "{'text_blocks': [{'type': 'paragraph', 'snippet': \"DNS primarily uses port 53 for both UDP and TCP protocols. While UDP is the default for most queries due to its speed, TCP is used when UDP fails, typically for larger responses or when UDP's limitations are reached.\", 'snippet_highlighted_words': ['port 53'], 'reference_indexes': [1, 3, 5, 6, 7]}, {'type': 'paragraph', 'snippet': 'Elaboration:'}, {'type': 'list', 'list': [{'title': 'Default Port:', 'snippet': 'Port 53 is the well-known and standard port for Domain Name System (DNS) operations.', 'reference_indexes': [1, 6]}, {'title': 'UDP and TCP:', 'snippet': \"DNS uses both UDP and TCP protocols for communication. UDP is generally used for most DNS queries because it's faster and has less overhead.\", 'reference_indexes': [3, 5]}, {'title': 'TCP Fallback:', 'snippet': 'TCP port 53 is used when UDP fails to deliver a response, which can happen if the response data is too large for a single UDP packet or if other issues arise.', 'reference_indexes': [3, 5]}, {'title': 'Reasons for UDP Preference:', 'reference_indexes': [0, 5], 'list': [{'snippet': \"Speed: UDP is generally faster than TCP because it doesn't have the overhead of connection management.\", 'reference_indexes': [0, 5]}, {'snippet': 'Resource Efficiency: UDP is more efficient for DNS servers, especially at the root level where they handle massive amounts of queries.', 'reference_indexes': [5]}, {'snippet': 'Packet Size: Most DNS responses are relatively small and fit within a single UDP packet.', 'reference_indexes': [5]}]}, {'title': 'When TCP is Used:', 'reference_indexes': [3, 5], 'list': [{'snippet': 'Large Responses: When a DNS response exceeds the maximum size allowed for a UDP packet (typically 512 bytes), TCP is used to deliver the response.', 'reference_indexes': [3, 5]}, {'snippet': 'Reliable Delivery: TCP offers reliable data delivery, which can be important in certain scenarios, especially for zone transfers.', 'reference_indexes': [5]}, {'snippet': 'Connection Reuse: TCP allows for the reuse of long-lived connections between clients and servers.', 'reference_indexes': [5]}]}, {'title': 'DNS over HTTPS (DoH) and DNS over TLS (DoT):', 'snippet': 'These newer methods use different protocols and ports. DoH uses HTTPS and port 443, while DoT uses TLS and port 853.', 'reference_indexes': [2, 4]}]}], 'references': [{'title': 'Why does DNS use TCP Port 53 and UDP Port 53? - TechTarget', 'link': 'https://www.techtarget.com/searchnetworking/tip/Why-does-DNS-use-TCP-Port-53-and-UDP-Port-53#:~:text=Why%20does%20DNS%20use%20these,and%20examine%20how%20ports%20work.', 'snippet': 'Oct 28, 2024 — Why does DNS use these two different transport layer protocols? To understand how DNS uses TCP Port 53 and UDP Port 53...', 'source': 'TechTarget', 'index': 0}, {'title': 'DNS port definition – Glossary | NordVPN', 'link': 'https://nordvpn.com/cybersecurity/glossary/dns-port/#:~:text=A%20DNS%20port%20is%20a,client%20using%20the%20same%20port.', 'snippet': 'A DNS port is a network port used for communication between a DNS client and server. The standard port for DNS is port 53. DNS cli...', 'source': 'NordVPN', 'index': 1}, {'title': 'DNS-over-TLS | Public DNS - Google for Developers', 'link': 'https://developers.google.com/speed/public-dns/docs/dns-over-tls#:~:text=The%20client%20resolver%20attempts%20to,passive%20observers%20on%20the%20path.', 'snippet': 'Sep 3, 2024 — The client resolver attempts to establish a secure connection on port 853 to the specified DNS server. If a secure conn...', 'source': 'Google for Developers', 'index': 2}, {'title': 'What Is Port 53 and How Does It Operate? - Domain.com', 'link': \"https://www.domain.com/blog/domain-name-system-ports-port-53/#:~:text=Port%2053%20is%20the%20designated,packet%20size%20exceeds%20UDP's%20limits.\", 'snippet': 'Nov 3, 2024 — Port 53 is the designated port for DNS protocol, which is crucial for translating human-readable domain names, such as ...', 'source': 'Domain.com', 'index': 3}, {'title': 'Understanding DoT and DoH (DNS over TLS vs. DNS over HTTPS)', 'link': 'https://www.cloudns.net/blog/understanding-dot-and-doh-dns-over-tls-vs-dns-over-https/#:~:text=At%20the%20same%20time%2C%20DNS,standard%20HTTPS%20TCP%20port%20443.', 'snippet': 'Jan 2, 2025 — At the same time, DNS over HTTPS uses the HTTPS and HTTP/2 protocol to establish the connection. Due to this difference...', 'source': 'ClouDNS', 'index': 4}, {'title': 'Domain Name System - Wikipedia', 'link': 'https://en.wikipedia.org/wiki/Domain_Name_System#:~:text=the%20following%20decades.-,Conventional:%20DNS%20over%20UDP%20and%20TCP%20ports%2053%20(Do53),the%20client%20to%20TCP%20transport.', 'snippet': 'Conventional: DNS over UDP and TCP ports 53 (Do53) UDP reserves port number 53 for servers listening to queries. Such a query cons...', 'source': 'Wikipedia', 'index': 5}, {'title': 'Mitigating DNS Denial of Service Attacks', 'link': 'https://www.dns-oarc.net/oarc/mitigating-dns-denial-of-service-attacks#:~:text=Port%2053%20is%20the%20well%2Dknown%20port%20number%20for%20DNS.', 'snippet': 'Port 53 is the well-known port number for DNS.', 'source': 'DNS-OARC', 'index': 6}, {'title': 'Common TCP and UDP Ports - CompTIA Network+ N10-006 - 5.9', 'link': 'https://www.professormesser.com/network-plus/n10-006/common-tcp-and-udp-ports-3/#:~:text=There%20are%20services%20running%20on,used%20for%20encrypted%20web%20services.', 'snippet': 'There are services running on this web server that are using well known port numbers. UDP port 53 is used for DNS, TCP port 80 is ...', 'source': 'professormesser.com', 'index': 7}]}\n"
     ]
    }
   ],
   "source": [
    "from serpapi import GoogleSearch\n",
    "\n",
    "params = {\n",
    "  \"q\": \"What port does DNS use?\",\n",
    "  \"api_key\": \"ceb3f50af6f993589b5cd1851c0175df48d4dd6900717cca8f30ef969e8b92ba\"\n",
    "}\n",
    "\n",
    "search = GoogleSearch(params)\n",
    "results = search.get_dict()\n",
    "ai_overview = results[\"ai_overview\"]\n",
    "print(ai_overview)\n"
   ]
  },
  {
   "cell_type": "markdown",
   "id": "3df2c3d9",
   "metadata": {},
   "source": [
    "#\n",
    "Q4"
   ]
  },
  {
   "cell_type": "code",
   "execution_count": 10,
   "id": "7baa8917",
   "metadata": {},
   "outputs": [
    {
     "name": "stdout",
     "output_type": "stream",
     "text": [
      "Answer Box Snippet:\n",
      "\n",
      "Nmap is the de-facto tool for finding open ports and services due to how effective it is.\n"
     ]
    }
   ],
   "source": [
    "from serpapi import GoogleSearch\n",
    "\n",
    "# Search parameters\n",
    "params = {\n",
    "    \"engine\": \"google_light\",\n",
    "    \"google_domain\": \"google.com\",\n",
    "    \"hl\": \"en\",\n",
    "    \"gl\": \"us\",\n",
    "    \"q\": \"What tool is used to map open ports?\",\n",
    "    \"api_key\": \"ceb3f50af6f993589b5cd1851c0175df48d4dd6900717cca8f30ef969e8b92ba\"\n",
    "}\n",
    "\n",
    "# Perform the search\n",
    "search = GoogleSearch(params)\n",
    "results = search.get_dict()\n",
    "\n",
    "# Check if there's an answer box\n",
    "if \"answer_box\" in results:\n",
    "    answer_box = results[\"answer_box\"]\n",
    "    snippet = answer_box.get(\"snippet\") or answer_box.get(\"answer\")\n",
    "    if snippet:\n",
    "        print(\"Answer Box Snippet:\\n\")\n",
    "        print(snippet)\n",
    "    else:\n",
    "        print(\"Answer box found but no snippet available.\")\n",
    "else:\n",
    "    # No answer box, fallback to organic results\n",
    "    organic_results = results.get(\"organic_results\", [])\n",
    "    if organic_results:\n",
    "        first_result = organic_results[0]\n",
    "        snippet = first_result.get(\"snippet\")\n",
    "        if snippet:\n",
    "            print(\"First Organic Snippet:\\n\")\n",
    "            print(snippet)\n",
    "        else:\n",
    "            print(\"No snippet found in the first organic result.\")\n",
    "    else:\n",
    "        print(\"No organic results found.\")\n"
   ]
  },
  {
   "cell_type": "markdown",
   "id": "b3c345b2",
   "metadata": {},
   "source": [
    "#\n",
    "Q5"
   ]
  },
  {
   "cell_type": "code",
   "execution_count": 15,
   "id": "cde9e873",
   "metadata": {},
   "outputs": [
    {
     "name": "stdout",
     "output_type": "stream",
     "text": [
      "Hypertext transfer protocol secure (HTTPS)\n"
     ]
    }
   ],
   "source": [
    "from serpapi import GoogleSearch\n",
    "\n",
    "params = {\n",
    "    \"api_key\": \"ceb3f50af6f993589b5cd1851c0175df48d4dd6900717cca8f30ef969e8b92ba\",\n",
    "    \"engine\": \"google\",\n",
    "    \"q\": \"Which protocol secures websites with encryption?\",\n",
    "    \"google_domain\": \"google.com\",\n",
    "    \"gl\": \"us\",\n",
    "    \"hl\": \"en\"\n",
    "}\n",
    "\n",
    "search = GoogleSearch(params)\n",
    "results = search.get_dict()\n",
    "\n",
    "# Check and print only the \"answer\" from the \"answer_box\"\n",
    "answer_box = results.get(\"answer_box\")\n",
    "if answer_box and \"answer\" in answer_box:\n",
    "    print(answer_box[\"answer\"])\n",
    "else:\n",
    "    print(\"No answer found in answer_box.\")\n"
   ]
  },
  {
   "cell_type": "markdown",
   "id": "27a6b991",
   "metadata": {},
   "source": [
    "#\n",
    "Q6"
   ]
  },
  {
   "cell_type": "code",
   "execution_count": 19,
   "id": "8a783b07",
   "metadata": {},
   "outputs": [
    {
     "name": "stdout",
     "output_type": "stream",
     "text": [
      "Phishing for Information, Technique T1598 - MITRE ATT&CK®\n"
     ]
    }
   ],
   "source": [
    "from serpapi import GoogleSearch\n",
    "\n",
    "params = {\n",
    "    \"api_key\": \"ceb3f50af6f993589b5cd1851c0175df48d4dd6900717cca8f30ef969e8b92ba\",\n",
    "    \"engine\": \"google_light\",\n",
    "    \"google_domain\": \"google.com\",\n",
    "    \"q\": \"What MITRE ATT&CK Framework ID is used in the technique phishing for information?\",\n",
    "    \"hl\": \"en\",\n",
    "    \"gl\": \"us\"\n",
    "}\n",
    "\n",
    "search = GoogleSearch(params)\n",
    "results = search.get_dict()\n",
    "\n",
    "# Get the organic results\n",
    "organic_results = results.get(\"organic_results\", [])\n",
    "\n",
    "# Check if there's at least one result\n",
    "if organic_results:\n",
    "    first_result = organic_results[0]\n",
    "    title = first_result.get(\"title\")\n",
    "    if title:\n",
    "        print(title)\n",
    "    else:\n",
    "        print(\"Title not found in first result.\")\n",
    "else:\n",
    "    print(\"No organic results found.\")\n",
    "\n"
   ]
  },
  {
   "cell_type": "markdown",
   "id": "07cbef50",
   "metadata": {},
   "source": [
    "#\n",
    "Q7"
   ]
  },
  {
   "cell_type": "code",
   "execution_count": 20,
   "id": "0617065b",
   "metadata": {},
   "outputs": [
    {
     "name": "stdout",
     "output_type": "stream",
     "text": [
      "Answer Box Snippet:\n",
      "\n",
      "Tcpdump is a command-line utility that allows you to capture and analyze network traffic going through your system. It is often used to help troubleshoot network issues, as well as a security tool. A powerful and versatile tool that includes many options and filters, tcpdump can be used in a variety of cases.\n"
     ]
    }
   ],
   "source": [
    "from serpapi import GoogleSearch\n",
    "\n",
    "# Search parameters\n",
    "params = {\n",
    "    \"engine\": \"google_light\",\n",
    "    \"google_domain\": \"google.com\",\n",
    "    \"hl\": \"en\",\n",
    "    \"gl\": \"us\",\n",
    "    \"q\": \"What Linux command captures packets?\",\n",
    "    \"api_key\": \"ceb3f50af6f993589b5cd1851c0175df48d4dd6900717cca8f30ef969e8b92ba\"\n",
    "}\n",
    "\n",
    "# Perform the search\n",
    "search = GoogleSearch(params)\n",
    "results = search.get_dict()\n",
    "\n",
    "# Check if there's an answer box\n",
    "if \"answer_box\" in results:\n",
    "    answer_box = results[\"answer_box\"]\n",
    "    snippet = answer_box.get(\"snippet\") or answer_box.get(\"answer\")\n",
    "    if snippet:\n",
    "        print(\"Answer Box Snippet:\\n\")\n",
    "        print(snippet)\n",
    "    else:\n",
    "        print(\"Answer box found but no snippet available.\")\n",
    "else:\n",
    "    # No answer box, fallback to organic results\n",
    "    organic_results = results.get(\"organic_results\", [])\n",
    "    if organic_results:\n",
    "        first_result = organic_results[0]\n",
    "        snippet = first_result.get(\"snippet\")\n",
    "        if snippet:\n",
    "            print(\"First Organic Snippet:\\n\")\n",
    "            print(snippet)\n",
    "        else:\n",
    "            print(\"No snippet found in the first organic result.\")\n",
    "    else:\n",
    "        print(\"No organic results found.\")\n"
   ]
  },
  {
   "cell_type": "markdown",
   "id": "1ede0c59",
   "metadata": {},
   "source": [
    "#\n",
    "Q8"
   ]
  },
  {
   "cell_type": "code",
   "execution_count": 22,
   "id": "a72892bf",
   "metadata": {},
   "outputs": [
    {
     "name": "stdout",
     "output_type": "stream",
     "text": [
      "\n",
      "Snippet: Best password hacking tools 1. Hashcat Hashcat is one of the most popular and widely used password cracking software tools in existence. It is available on every operating system and supports over 300 different types of hashes. Hashcat enables highly parallelized password cracking which allows it to crack multiple different passwords on multiple different devices at the same time and support a ...\n"
     ]
    }
   ],
   "source": [
    "from serpapi import GoogleSearch\n",
    "\n",
    "params = {\n",
    "    \"api_key\": \"ceb3f50af6f993589b5cd1851c0175df48d4dd6900717cca8f30ef969e8b92ba\",\n",
    "    \"engine\": \"duckduckgo\",\n",
    "    \"q\": \"What tool cracks password hashes?\",\n",
    "    \"kl\": \"us-en\"\n",
    "}\n",
    "\n",
    "search = GoogleSearch(params)\n",
    "results = search.get_dict()\n",
    "\n",
    "# Now, let's extract what you asked:\n",
    "organic_results = results.get(\"organic_results\", [])\n",
    "\n",
    "if organic_results:\n",
    "    position1 = organic_results[0]  # First search result\n",
    "    snippet = position1.get(\"snippet\", \"No snippet available.\")\n",
    "    \n",
    "    print(\"\\nSnippet:\", snippet)\n",
    "else:\n",
    "    print(\"No organic results found.\")\n"
   ]
  },
  {
   "cell_type": "markdown",
   "id": "e95e3cdb",
   "metadata": {},
   "source": [
    "#\n",
    "Q9"
   ]
  },
  {
   "cell_type": "code",
   "execution_count": null,
   "id": "f67955b5",
   "metadata": {},
   "outputs": [],
   "source": [
    "from serpapi import GoogleSearch\n",
    "\n",
    "params = {\n",
    "    \"api_key\": \"ceb3f50af6f993589b5cd1851c0175df48d4dd6900717cca8f30ef969e8b92ba\",\n",
    "    \"engine\": \"google\",\n",
    "    \"q\": \"What file stores Linux user passwords?\",\n",
    "    \"google_domain\": \"google.com\",\n",
    "    \"gl\": \"us\",\n",
    "    \"hl\": \"en\"\n",
    "}\n",
    "\n",
    "search = GoogleSearch(params)\n",
    "results = search.get_dict()\n",
    "\n",
    "# Check and print only the \"answer\" from the \"answer_box\"\n",
    "answer_box = results.get(\"answer_box\")\n",
    "if answer_box and \"answer\" in answer_box:\n",
    "    print(answer_box[\"answer\"])\n",
    "else:\n",
    "    print(\"No answer found in answer_box.\")\n"
   ]
  },
  {
   "cell_type": "markdown",
   "id": "9b64847d",
   "metadata": {},
   "source": [
    "#\n",
    "Q10"
   ]
  },
  {
   "cell_type": "code",
   "execution_count": 24,
   "id": "078f6228",
   "metadata": {},
   "outputs": [
    {
     "name": "stdout",
     "output_type": "stream",
     "text": [
      "HTTP 403\n"
     ]
    }
   ],
   "source": [
    "from serpapi import GoogleSearch\n",
    "\n",
    "params = {\n",
    "    \"api_key\": \"ceb3f50af6f993589b5cd1851c0175df48d4dd6900717cca8f30ef969e8b92ba\",\n",
    "    \"engine\": \"google\",\n",
    "    \"q\": \"What HTTP response code means Forbidden?\",\n",
    "    \"google_domain\": \"google.com\",\n",
    "    \"gl\": \"us\",\n",
    "    \"hl\": \"en\"\n",
    "}\n",
    "\n",
    "search = GoogleSearch(params)\n",
    "results = search.get_dict()\n",
    "\n",
    "# Check and print only the \"answer\" from the \"answer_box\"\n",
    "answer_box = results.get(\"answer_box\")\n",
    "if answer_box and \"answer\" in answer_box:\n",
    "    print(answer_box[\"answer\"])\n",
    "else:\n",
    "    print(\"No answer found in answer_box.\")\n"
   ]
  },
  {
   "cell_type": "markdown",
   "id": "43549bfc",
   "metadata": {},
   "source": [
    "#\n",
    "Q11"
   ]
  },
  {
   "cell_type": "code",
   "execution_count": 25,
   "id": "157a3dc7",
   "metadata": {},
   "outputs": [
    {
     "name": "stdout",
     "output_type": "stream",
     "text": [
      "North Korean hacker got hired by US security vendor, immediately loaded ...\n"
     ]
    }
   ],
   "source": [
    "from serpapi import GoogleSearch\n",
    "\n",
    "params = {\n",
    "    \"api_key\": \"ceb3f50af6f993589b5cd1851c0175df48d4dd6900717cca8f30ef969e8b92ba\",\n",
    "    \"engine\": \"duckduckgo\",\n",
    "    \"q\": \"Which nation-state adversaries have been accidentally hired by US companies?\",\n",
    "    \"kl\": \"us-en\"\n",
    "}\n",
    "\n",
    "search = GoogleSearch(params)\n",
    "results = search.get_dict()\n",
    "\n",
    "# Extract and print the title of position 1\n",
    "organic_results = results.get(\"organic_results\", [])\n",
    "\n",
    "if organic_results:\n",
    "    position1 = organic_results[0]\n",
    "    title = position1.get(\"title\", \"No title available.\")\n",
    "    print(title)\n",
    "else:\n",
    "    print(\"No organic results found.\")\n"
   ]
  },
  {
   "cell_type": "markdown",
   "id": "e4f85da8",
   "metadata": {},
   "source": [
    "### OSINT\n"
   ]
  },
  {
   "cell_type": "markdown",
   "id": "5600fcd6",
   "metadata": {},
   "source": [
    "Park... where you at?"
   ]
  },
  {
   "cell_type": "code",
   "execution_count": 7,
   "id": "91912e5f",
   "metadata": {},
   "outputs": [
    {
     "name": "stdout",
     "output_type": "stream",
     "text": [
      "WALNUT CREEK METROPOLITAN PARK (2025) All You ...\n",
      "Walnut Creek Metropolitan Park (2025) - All You Need to ...\n",
      "WALNUT CREEK METROPOLITAN PARK (2025) All You ...\n",
      "WALNUT CREEK METROPOLITAN PARK (Austin) - Tripadvisor\n",
      "Walnut Creek Metropolitan Park - Tripadvisor\n"
     ]
    }
   ],
   "source": [
    "from serpapi import GoogleSearch\n",
    "\n",
    "params = {\n",
    "    \"api_key\": \"ceb3f50af6f993589b5cd1851c0175df48d4dd6900717cca8f30ef969e8b92ba\",\n",
    "    \"engine\": \"google_reverse_image\",\n",
    "    \"google_domain\": \"google.com\",\n",
    "    \"image_url\": \"https://i.imgur.com/yFQ0i6R.jpeg\",\n",
    "    \"q\": \"Find the park in this photo\"\n",
    "}\n",
    "\n",
    "search = GoogleSearch(params)\n",
    "results = search.get_dict()\n",
    "\n",
    "# Get the image results safely\n",
    "image_results = results.get(\"image_results\", [])\n",
    "\n",
    "# Loop through results and only print titles if 'tripadvisor' is in the link\n",
    "for result in image_results:\n",
    "    link = result.get(\"link\", \"\")\n",
    "    title = result.get(\"title\", \"\")\n",
    "    if \"tripadvisor\" in link:\n",
    "        print(title)"
   ]
  },
  {
   "cell_type": "markdown",
   "id": "1abe56e6",
   "metadata": {},
   "source": [
    "Find the Ransomware Group"
   ]
  },
  {
   "cell_type": "code",
   "execution_count": 9,
   "id": "f4787730",
   "metadata": {},
   "outputs": [
    {
     "name": "stdout",
     "output_type": "stream",
     "text": [
      "Change Healthcare\n"
     ]
    }
   ],
   "source": [
    "from serpapi import GoogleSearch\n",
    "\n",
    "# Parameters\n",
    "params = {\n",
    "    \"api_key\": \"ceb3f50af6f993589b5cd1851c0175df48d4dd6900717cca8f30ef969e8b92ba\",\n",
    "    \"engine\": \"google\",\n",
    "    \"q\": \"Which healthcare company was attacked by BlackCat/ALPHV?\",\n",
    "    \"location\": \"Austin, Texas, United States\",\n",
    "    \"google_domain\": \"google.com\",\n",
    "    \"gl\": \"us\",\n",
    "    \"hl\": \"en\"\n",
    "}\n",
    "\n",
    "# Search\n",
    "search = GoogleSearch(params)\n",
    "results = search.get_dict()\n",
    "\n",
    "# Access 'answer_box' -> 'hover_info' -> 'text'\n",
    "answer_box = results.get(\"answer_box\", {})\n",
    "hover_info = answer_box.get(\"hover_info\", [])\n",
    "\n",
    "# If hover_info exists, print the 'text' of each item\n",
    "if hover_info:\n",
    "    for info in hover_info:\n",
    "        text = info.get(\"text\")\n",
    "        if text:\n",
    "            print(text)\n",
    "else:\n",
    "    print(\"⚠️ No hover_info text found.\")"
   ]
  },
  {
   "cell_type": "markdown",
   "id": "a6e42920",
   "metadata": {},
   "source": [
    "Where's the church?"
   ]
  },
  {
   "cell_type": "code",
   "execution_count": 10,
   "id": "0671aaf3",
   "metadata": {},
   "outputs": [
    {
     "name": "stdout",
     "output_type": "stream",
     "text": [
      "St. Mary Cathedral – Austin, TX - Steeple Stretch\n"
     ]
    }
   ],
   "source": [
    "from serpapi import GoogleSearch\n",
    "\n",
    "# Set your search parameters\n",
    "params = {\n",
    "    \"api_key\": \"ceb3f50af6f993589b5cd1851c0175df48d4dd6900717cca8f30ef969e8b92ba\",\n",
    "    \"engine\": \"google_reverse_image\",\n",
    "    \"google_domain\": \"google.com\",\n",
    "    \"image_url\": \"https://i.imgur.com/Rhbg7gn.jpeg\",\n",
    "    \"q\": \"Find the address of the Cathedral\",\n",
    "    \"hl\": \"en\",\n",
    "    \"gl\": \"us\",\n",
    "    \"location\": \"United States\"\n",
    "}\n",
    "\n",
    "# Perform the search\n",
    "search = GoogleSearch(params)\n",
    "results = search.get_dict()\n",
    "\n",
    "# Safely access image_results -> first position -> title\n",
    "image_results = results.get(\"image_results\", [])\n",
    "\n",
    "if image_results:\n",
    "    first_result = image_results[0]\n",
    "    title = first_result.get(\"title\", \"No title found.\")\n",
    "    print(title)\n",
    "else:\n",
    "    print(\"⚠️ No image results found.\")\n"
   ]
  },
  {
   "cell_type": "markdown",
   "id": "c32eddae",
   "metadata": {},
   "source": [
    "Crypto 1"
   ]
  },
  {
   "cell_type": "code",
   "execution_count": 11,
   "id": "90837d2f",
   "metadata": {},
   "outputs": [
    {
     "name": "stdout",
     "output_type": "stream",
     "text": [
      "Title: Transaction receipt Ethereum - blockexplorer.one\n",
      "Link: https://blockexplorer.one/ethereum/mainnet/tx/0x7fda3c06d2eec7c3d26c1b373cc3f1e648b51556fd7e95944d31861758936626/receipt\n"
     ]
    }
   ],
   "source": [
    "from serpapi import GoogleSearch\n",
    "\n",
    "# Search parameters\n",
    "params = {\n",
    "    \"api_key\": \"ceb3f50af6f993589b5cd1851c0175df48d4dd6900717cca8f30ef969e8b92ba\",\n",
    "    \"engine\": \"duckduckgo\",\n",
    "    \"q\": \"0x7fda3c06d2eec7c3d26c1b373cc3f1e648b51556fd7e95944d31861758936626\",\n",
    "    \"kl\": \"us-en\"\n",
    "}\n",
    "\n",
    "# Perform the search\n",
    "search = GoogleSearch(params)\n",
    "results = search.get_dict()\n",
    "\n",
    "# Safely access organic_results -> position 1\n",
    "organic_results = results.get(\"organic_results\", [])\n",
    "\n",
    "if organic_results:\n",
    "    position1 = organic_results[0]\n",
    "    title = position1.get(\"title\", \"No title found.\")\n",
    "    link = position1.get(\"link\", \"No link found.\")\n",
    "    print(f\"Title: {title}\")\n",
    "    print(f\"Link: {link}\")\n",
    "else:\n",
    "    print(\"⚠️ No organic results found.\")\n"
   ]
  },
  {
   "cell_type": "markdown",
   "id": "038c56e4",
   "metadata": {},
   "source": [
    "Crypto 2"
   ]
  },
  {
   "cell_type": "code",
   "execution_count": 13,
   "id": "4563784d",
   "metadata": {},
   "outputs": [
    {
     "name": "stdout",
     "output_type": "stream",
     "text": [
      "Title: Transaction receipt Ethereum - blockexplorer.one\n",
      "Link: https://blockexplorer.one/ethereum/mainnet/tx/0x7fda3c06d2eec7c3d26c1b373cc3f1e648b51556fd7e95944d31861758936626/receipt\n"
     ]
    }
   ],
   "source": [
    "from serpapi import GoogleSearch\n",
    "\n",
    "# Search parameters\n",
    "params = {\n",
    "    \"api_key\": \"ceb3f50af6f993589b5cd1851c0175df48d4dd6900717cca8f30ef969e8b92ba\",\n",
    "    \"engine\": \"duckduckgo\",\n",
    "    \"q\": \"0x7fda3c06d2eec7c3d26c1b373cc3f1e648b51556fd7e95944d31861758936626\",\n",
    "    \"kl\": \"us-en\"\n",
    "}\n",
    "\n",
    "# Perform the search\n",
    "search = GoogleSearch(params)\n",
    "results = search.get_dict()\n",
    "\n",
    "# Safely access organic_results -> position 1\n",
    "organic_results = results.get(\"organic_results\", [])\n",
    "\n",
    "if organic_results:\n",
    "    position1 = organic_results[0]\n",
    "    title = position1.get(\"title\", \"No title found.\")\n",
    "    link = position1.get(\"link\", \"No link found.\")\n",
    "    print(f\"Title: {title}\")\n",
    "    print(f\"Link: {link}\")\n",
    "else:\n",
    "    print(\"⚠️ No organic results found.\")"
   ]
  },
  {
   "cell_type": "markdown",
   "id": "a7c822ab",
   "metadata": {},
   "source": [
    "Crypto 3"
   ]
  },
  {
   "cell_type": "code",
   "execution_count": 14,
   "id": "833c80f3",
   "metadata": {},
   "outputs": [
    {
     "name": "stdout",
     "output_type": "stream",
     "text": [
      "Title: Transaction receipt Ethereum - blockexplorer.one\n",
      "Link: https://blockexplorer.one/ethereum/mainnet/tx/0x7fda3c06d2eec7c3d26c1b373cc3f1e648b51556fd7e95944d31861758936626/receipt\n"
     ]
    }
   ],
   "source": [
    "from serpapi import GoogleSearch\n",
    "\n",
    "# Search parameters\n",
    "params = {\n",
    "    \"api_key\": \"ceb3f50af6f993589b5cd1851c0175df48d4dd6900717cca8f30ef969e8b92ba\",\n",
    "    \"engine\": \"duckduckgo\",\n",
    "    \"q\": \"0x7fda3c06d2eec7c3d26c1b373cc3f1e648b51556fd7e95944d31861758936626\",\n",
    "    \"kl\": \"us-en\"\n",
    "}\n",
    "\n",
    "# Perform the search\n",
    "search = GoogleSearch(params)\n",
    "results = search.get_dict()\n",
    "\n",
    "# Safely access organic_results -> position 1\n",
    "organic_results = results.get(\"organic_results\", [])\n",
    "\n",
    "if organic_results:\n",
    "    position1 = organic_results[0]\n",
    "    title = position1.get(\"title\", \"No title found.\")\n",
    "    link = position1.get(\"link\", \"No link found.\")\n",
    "    print(f\"Title: {title}\")\n",
    "    print(f\"Link: {link}\")\n",
    "else:\n",
    "    print(\"⚠️ No organic results found.\")"
   ]
  }
 ],
 "metadata": {
  "kernelspec": {
   "display_name": "Python 3",
   "language": "python",
   "name": "python3"
  },
  "language_info": {
   "codemirror_mode": {
    "name": "ipython",
    "version": 3
   },
   "file_extension": ".py",
   "mimetype": "text/x-python",
   "name": "python",
   "nbconvert_exporter": "python",
   "pygments_lexer": "ipython3",
   "version": "3.12.6"
  }
 },
 "nbformat": 4,
 "nbformat_minor": 5
}
